{
 "cells": [
  {
   "cell_type": "markdown",
   "metadata": {},
   "source": [
    "# Introduction toTensorflow\n",
    "\n",
    "![Tensorflow](images/TFlogo.png)\n",
    "\n",
    "## What is Tensorflow?\n",
    "\n",
    "- Originally developed by the **Google** Brain Team within Google's Machine Intelligence research organization \n",
    "- TensorFlow is a **suite of software**, an ecosystem for developing deep learning models.\n",
    "- An open source software library for numerical computation using **data flow graphs**.\n",
    "- TensorFlow provides primitives for defining functions on **tensors** and automatically computing their derivatives. \n",
    "\n",
    "## Why Tensorflow\n",
    "\n",
    "- Faster compile times, based on C/C++.\n",
    "- Python and C++ API.\n",
    "- Support CPUs, GPUs, and distributed processing.\n",
    "- Different components that help to expose functionality and to visualize internal complex processes.\n",
    "\n",
    "## Tensorflow Components\n",
    "\n",
    "#### TensorFlow(API)\n",
    "\n",
    "This component of tensorflow contains the API's to define the models and train the models with the data.The actual computation was written in C++ though it is accessed with python API's.This advantages are of 2 fold:\n",
    "- We get the more user friendly python interface to develop the models \n",
    "- We can run the models on fast and efficient compiled C++ code.\n",
    "\n",
    "#### TensorFlow Serving\n",
    "\n",
    "This component of tensorflow helps to deploy the pretrained models.Tensorflow serving is capable of switching from old models to new models with out any downtime.This is the stand out feature in the ecosystem.This is also written in C++ and can be accessible with python interfaces.\n",
    "\n",
    "#### TensorBoard:\n",
    "\n",
    "The third component of the ecosystem and the boon for engineers is the TensorBoard. It helps to analyze, visualize, and debug TensorFlow graphs.\n"
   ]
  },
  {
   "cell_type": "markdown",
   "metadata": {},
   "source": [
    "## Data Flow Graph? \n",
    "![Tensorflow Graph](images/TensorflowGraph.png)\n",
    "- Computations are represented as graphs.\n",
    "    - Nodes are the operations (ops).\n",
    "    - Edges are the Tensors (multidimensional arrays).\n",
    "- Typical program consists of 2 phases: \n",
    "    - Construction phase: assembling a graph (model).\n",
    "    - Execution phase: pushing data through the graph."
   ]
  },
  {
   "cell_type": "markdown",
   "metadata": {},
   "source": [
    "## Tensor? \n",
    "Tensors can be viewed as a multidimensional array of numbers. This means that: \n",
    "- A scalar is a tensor, \n",
    "- A vector is a tensor, and \n",
    "- A matrix is a tensor.\n",
    "![Tensor](images/Tensor.png)"
   ]
  },
  {
   "cell_type": "markdown",
   "metadata": {},
   "source": [
    "## Understanding Tensorflow Graph and Operations\n",
    "\n",
    "#### Import Tensorflow module"
   ]
  },
  {
   "cell_type": "code",
   "execution_count": 1,
   "metadata": {
    "collapsed": true
   },
   "outputs": [],
   "source": [
    "import tensorflow as tf"
   ]
  },
  {
   "cell_type": "markdown",
   "metadata": {},
   "source": [
    "#### TensorFlow Session Object\n",
    "> A Session object encapsulates the environment in which\n",
    "Tensor objects are evaluated.\n",
    "\n",
    "> All computations add nodes to global default graph.\n",
    "\n",
    "[Tensorflow Docs](https://www.tensorflow.org/versions/r0.8/api_docs/python/client.html#Session)"
   ]
  },
  {
   "cell_type": "code",
   "execution_count": 3,
   "metadata": {
    "collapsed": true
   },
   "outputs": [],
   "source": [
    "# Constructing computational graph\n",
    "a = tf.constant(5)\n",
    "b = tf.constant(6)\n",
    "c= a * b"
   ]
  },
  {
   "cell_type": "code",
   "execution_count": 4,
   "metadata": {},
   "outputs": [
    {
     "name": "stdout",
     "output_type": "stream",
     "text": [
      "Tensor(\"mul:0\", shape=(), dtype=int32)\n",
      "30\n",
      "30\n",
      "Tensor(\"mul:0\", shape=(), dtype=int32)\n"
     ]
    }
   ],
   "source": [
    "# Run default graph session\n",
    "with tf.Session() as sess:\n",
    "    print(c)\n",
    "    print(sess.run(c))\n",
    "    print(c.eval())\n",
    "    print(c)"
   ]
  },
  {
   "cell_type": "markdown",
   "metadata": {},
   "source": [
    "`c.eval()` is just syntactic sugar for `sess.run(c)` in the currently active session!"
   ]
  },
  {
   "cell_type": "markdown",
   "metadata": {},
   "source": [
    "#### TensorFlow Variables\n",
    "> When you train a model you use variables to hold and\n",
    "update parameters. Variables are in-memory buffers\n",
    "containing tensors.\n",
    "\n",
    "All tensors we’ve used previously have been constant tensors, not variables.\n",
    "\n",
    "##### TensorFlow variables must be initialized before they have values! Contrast with constant tensors."
   ]
  },
  {
   "cell_type": "code",
   "execution_count": 6,
   "metadata": {},
   "outputs": [
    {
     "name": "stdout",
     "output_type": "stream",
     "text": [
      "[[ 1.  1.]\n",
      " [ 1.  1.]]\n",
      "[[ 0.  0.]\n",
      " [ 0.  0.]]\n"
     ]
    }
   ],
   "source": [
    "W1 = tf.ones((2,2))\n",
    "W2 = tf.Variable(tf.zeros((2,2)), name=\"weights\")\n",
    "with tf.Session() as sess:\n",
    "    print(sess.run(W1))\n",
    "    sess.run(tf.global_variables_initializer())\n",
    "    print(sess.run(W2))\n"
   ]
  },
  {
   "cell_type": "markdown",
   "metadata": {},
   "source": [
    "##### Variable objects can be initialized from constants or random values"
   ]
  },
  {
   "cell_type": "code",
   "execution_count": 8,
   "metadata": {},
   "outputs": [
    {
     "name": "stdout",
     "output_type": "stream",
     "text": [
      "[[ 0.  0.]\n",
      " [ 0.  0.]]\n",
      "[[-0.48949656 -0.21983659]\n",
      " [ 0.94058114  1.52746809]]\n"
     ]
    }
   ],
   "source": [
    "# initialize from constant values\n",
    "W = tf.Variable(tf.zeros((2,2)), name=\"weights\")\n",
    "# initialize from random values\n",
    "R = tf.Variable(tf.random_normal((2,2)), name=\"random_weights\")\n",
    "\n",
    "with tf.Session() as sess:\n",
    "    sess.run(tf.global_variables_initializer())\n",
    "    print(sess.run(W))\n",
    "    print(sess.run(R))\n"
   ]
  },
  {
   "cell_type": "markdown",
   "metadata": {},
   "source": [
    "##### Updating Variable State"
   ]
  },
  {
   "cell_type": "code",
   "execution_count": 10,
   "metadata": {},
   "outputs": [
    {
     "name": "stdout",
     "output_type": "stream",
     "text": [
      "0\n",
      "1\n",
      "2\n",
      "3\n"
     ]
    }
   ],
   "source": [
    "\n",
    "#initialize state variable\n",
    "state = tf.Variable(0, name=\"counter\")\n",
    "#initialize new_value as: new_value = state + 1\n",
    "new_value = tf.add(state, tf.constant(1))\n",
    "# initialize state as: state = new_value\n",
    "update = tf.assign(state, new_value)\n",
    "\n",
    "with tf.Session() as sess:\n",
    "    sess.run(tf.global_variables_initializer())\n",
    "    print(sess.run(state))\n",
    "    for _ in range(3):\n",
    "        sess.run(update)\n",
    "        print(sess.run(state))"
   ]
  },
  {
   "cell_type": "markdown",
   "metadata": {},
   "source": [
    "##### Fetching Variable State"
   ]
  },
  {
   "cell_type": "code",
   "execution_count": 16,
   "metadata": {},
   "outputs": [
    {
     "name": "stdout",
     "output_type": "stream",
     "text": [
      "[21.0, 7.0]\n"
     ]
    }
   ],
   "source": [
    "# initializing constants\n",
    "input1 = tf.constant(3.0)\n",
    "input2 = tf.constant(2.0)\n",
    "input3 = tf.constant(5.0)\n",
    "\n",
    "#intermiate operation\n",
    "intermed = tf.add(input2, input3)\n",
    "\n",
    "# final operation\n",
    "mul = tf.multiply(input1, intermed)\n",
    "\n",
    "# Calling sess.run(var) on a tf.Session() object retrieves its value. \n",
    "# Can retrieve multiple variables simultaneously with sess.run([var1, var2])\n",
    "with tf.Session() as sess:\n",
    "    result = sess.run([mul, intermed])\n",
    "    print(result)\n"
   ]
  },
  {
   "cell_type": "markdown",
   "metadata": {},
   "source": [
    "##### Placeholders and Feed Dictionaries\n",
    "- Use tf.placeholder variables (dummy nodes that provide entry points for data to computational graph).\n",
    "- A feed_dict is a python dictionary mapping from tf. placeholder vars (or their names) to data (numpy arrays,lists, etc.)."
   ]
  },
  {
   "cell_type": "code",
   "execution_count": 18,
   "metadata": {},
   "outputs": [
    {
     "name": "stdout",
     "output_type": "stream",
     "text": [
      "[array([ 14.], dtype=float32)]\n"
     ]
    }
   ],
   "source": [
    "# Define tf.placeholder objects for data entry.\n",
    "input1 = tf.placeholder(tf.float32)\n",
    "input2 = tf.placeholder(tf.float32)\n",
    "\n",
    "output = tf.multiply(input1, input2)\n",
    "\n",
    "with tf.Session() as sess:\n",
    "    # Feed data into computation graph\n",
    "    print(sess.run([output], feed_dict={input1:[7.], input2:[2.]}))\n"
   ]
  },
  {
   "cell_type": "code",
   "execution_count": null,
   "metadata": {
    "collapsed": true
   },
   "outputs": [],
   "source": []
  }
 ],
 "metadata": {
  "kernelspec": {
   "display_name": "Python 2",
   "language": "python",
   "name": "python2"
  },
  "language_info": {
   "codemirror_mode": {
    "name": "ipython",
    "version": 2
   },
   "file_extension": ".py",
   "mimetype": "text/x-python",
   "name": "python",
   "nbconvert_exporter": "python",
   "pygments_lexer": "ipython2",
   "version": "2.7.12"
  }
 },
 "nbformat": 4,
 "nbformat_minor": 2
}
